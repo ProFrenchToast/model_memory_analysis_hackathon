{
 "cells": [
  {
   "cell_type": "markdown",
   "metadata": {},
   "source": [
    "# install and setup matplot"
   ]
  },
  {
   "cell_type": "code",
   "execution_count": null,
   "metadata": {},
   "outputs": [],
   "source": [
    "!pip install matplotlib"
   ]
  },
  {
   "cell_type": "code",
   "execution_count": null,
   "metadata": {},
   "outputs": [],
   "source": [
    "import matplotlib.pyplot as plt"
   ]
  },
  {
   "cell_type": "markdown",
   "metadata": {},
   "source": [
    "# small model"
   ]
  },
  {
   "cell_type": "code",
   "execution_count": null,
   "metadata": {},
   "outputs": [],
   "source": [
    "\n",
    "baseline_small = 1    # need to fill in\n",
    "nudge_values_small = [0, 0.1, 0.25, 0.5, 0.9] # need to fill in \n",
    "on_question_perf_small = [baseline_small, 0.5, 0.17, 0.07, 0.01] # need to fill in \n",
    "off_question_perf_small = [baseline_small, 0.68, 0.5, 0.3, 0.1] # need to fill in"
   ]
  },
  {
   "cell_type": "code",
   "execution_count": null,
   "metadata": {},
   "outputs": [],
   "source": [
    "plt.figure(figsize=(10, 6))\n",
    "plt.plot(nudge_values_small, on_question_perf_small, marker='o', linestyle='-', label='On-Question Performance')\n",
    "plt.plot(nudge_values_small, off_question_perf_small, marker='x', linestyle='-', label='Off-Question Performance')\n",
    "plt.axhline(y=baseline_small, color='gray', linestyle='--', label='Trivia Baseline')\n",
    "\n",
    "plt.xlabel('Nudge Value')\n",
    "plt.ylabel('Performance')\n",
    "plt.title('On and Off Question Performance as nudge value changes (EXAMPLE DATA)')\n",
    "plt.legend()\n",
    "plt.grid(True)\n",
    "plt.show()"
   ]
  },
  {
   "cell_type": "markdown",
   "metadata": {},
   "source": [
    "# large model"
   ]
  },
  {
   "cell_type": "code",
   "execution_count": null,
   "metadata": {},
   "outputs": [],
   "source": [
    "\n",
    "baseline_large = 1    # need to fill in\n",
    "nudge_values_large = [0, 0.1, 0.25, 0.5, 0.9] # need to fill in \n",
    "on_question_perf_large = [baseline_large, 0.5, 0.17, 0.07, 0.01] # need to fill in \n",
    "off_question_perf_large = [baseline_large, 0.68, 0.5, 0.3, 0.1] # need to fill in"
   ]
  },
  {
   "cell_type": "code",
   "execution_count": null,
   "metadata": {},
   "outputs": [],
   "source": [
    "plt.figure(figsize=(10, 6))\n",
    "plt.plot(nudge_values_large, on_question_perf_large, marker='o', linestyle='-', label='On-Question Performance')\n",
    "plt.plot(nudge_values_large, off_question_perf_large, marker='x', linestyle='-', label='Off-Question Performance')\n",
    "plt.axhline(y=baseline_large, color='gray', linestyle='--', label='Trivia Baseline')\n",
    "\n",
    "plt.xlabel('Nudge Value')\n",
    "plt.ylabel('Performance')\n",
    "plt.title('On and Off Question Performance as nudge value changes (EXAMPLE large mode DATA)')\n",
    "plt.legend()\n",
    "plt.grid(True)\n",
    "plt.show()"
   ]
  }
 ],
 "metadata": {
  "kernelspec": {
   "display_name": "Python 3",
   "language": "python",
   "name": "python3"
  },
  "language_info": {
   "name": "python",
   "version": "3.10.10"
  }
 },
 "nbformat": 4,
 "nbformat_minor": 2
}
